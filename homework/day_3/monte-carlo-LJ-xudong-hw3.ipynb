{
 "cells": [
  {
   "cell_type": "markdown",
   "metadata": {},
   "source": [
    "# Monte Carlo Simulation - Advanced\n",
    "\n",
    "In this homework, we will work with the Lennard Jones equation added with cutoff distance and periodic boundary conditions.\n",
    "\n",
    "$$ U(r) = 4 \\epsilon \\left[\\left(\\frac{\\sigma}{r}\\right)^{12} -\\left(\\frac{\\sigma}{r}\\right)^{6} \\right] $$ \n",
    "Reduced units:\n",
    "$$ U^*\\left(r^*_{ij} \\right) = 4 \\left[\\left(\\frac{1}{r^*_{ij}}\\right)^{12} -\\left(\\frac{1}{r^*_{ij}}\\right)^{6} \\right] $$ "
   ]
  },
  {
   "cell_type": "code",
   "execution_count": null,
   "metadata": {},
   "outputs": [],
   "source": [
    "import math, os\n",
    "import matplotlib.pyplot as plt\n",
    "\n",
    "%matplotlib notebook\n",
    "\n",
    "def calculate_LJ(r_ij):\n",
    "    \"\"\"\n",
    "    The LJ interaction energy between two particles.\n",
    "    \n",
    "    Computes the pairwise Lennard Jones interaction energy based on the separation distance in reduced unites.\n",
    "    \n",
    "    Parameters\n",
    "    ----------\n",
    "    r_ij : float\n",
    "        The distance between the particles in reduced units.\n",
    "        \n",
    "    Returns\n",
    "    -------\n",
    "    pairwise_energy : float\n",
    "        The pairwise Lennard Jones interaction energy in reduced units.\n",
    "    \n",
    "    \"\"\"\n",
    "    \n",
    "    r6_term = math.pow(1/r_ij,6)\n",
    "    r12_term = math.pow(r6_term,2)\n",
    "    \n",
    "    pairwise_energy = 4 * (r12_term - r6_term)\n",
    "    ax.plot(r_ij,pairwise_energy,'ob')\n",
    "    \n",
    "    return pairwise_energy"
   ]
  },
  {
   "cell_type": "code",
   "execution_count": null,
   "metadata": {},
   "outputs": [],
   "source": [
    "def calculate_distance(coord1,coord2,box_length=None):\n",
    "    \"\"\"\n",
    "    Calculate the distance between two 3D coordinates.\n",
    "    \n",
    "    Parameters\n",
    "    ----------\n",
    "    coord1, coord2 : list\n",
    "        The atomic coordinates [x, y, z]\n",
    "    \n",
    "    box_length : float, optional\n",
    "        The box length. This function assumes box is a cube.\n",
    "    \n",
    "    Returns\n",
    "    -------\n",
    "    distance : float\n",
    "        The distance between the two atoms.\n",
    "    \"\"\"\n",
    "    distance = 0\n",
    "    vector = [0,0,0]\n",
    "    for i in range(3):\n",
    "        vector[i] = coord1[i] -coord2[i]\n",
    "        if box_length is None:\n",
    "            pass\n",
    "        else:\n",
    "            if vector[i] > box_length/2:\n",
    "                vector[i] -= box_length\n",
    "            elif vector[i] < -box_length/2:\n",
    "                vector[i] += box_length\n",
    "        dim_dist = vector[i] ** 2\n",
    "        distance += dim_dist\n",
    "    distance = math.sqrt(distance)\n",
    "    return distance"
   ]
  },
  {
   "cell_type": "markdown",
   "metadata": {},
   "source": [
    "# Tail Correction\n",
    "Truncating interactions using a cutoff removes contribution to the potential energy that might be non-negligible. The tail correction for our system makes a correction for use of the cutoff. We only have to calculate this once at the start of our simulation. The formula is:\n",
    "\n",
    "$$U_{tail} = \\frac{8\\pi N^2}{3V} \\epsilon \\sigma ^3 \\left[\\frac{1}{3}\\left(\\frac{\\sigma}{r_c}\\right)^9 - \\left(\\frac{\\sigma}{r_c}\\right)^3\\right]$$\n",
    "\n",
    "In reduced units:\n",
    "\n",
    "$$U_{tail} = \\frac{8\\pi N^2}{3V} \\left[\\frac{1}{3}\\left(\\frac{1}{r_c}\\right)^9 - \\left(\\frac{1}{r_c}\\right)^3\\right]$$"
   ]
  },
  {
   "cell_type": "code",
   "execution_count": null,
   "metadata": {},
   "outputs": [],
   "source": [
    "def calculate_tail_correction(cutoff, box_length, num_atoms):\n",
    "    \"\"\"\n",
    "    Calculate the tail correction.\n",
    "    \n",
    "    Parameters\n",
    "    ----------\n",
    "    cutoff : float\n",
    "        The curoff distance.\n",
    "        \n",
    "    box_length : float\n",
    "        The length of the cell.\n",
    "       \n",
    "    num_atoms : int\n",
    "        Number of atoms in a given system.\n",
    "       \n",
    "    Returns\n",
    "    -------\n",
    "    tail_co_LJ : float\n",
    "        A float number that shows the value of tail correction energy for the given system.\n",
    "    \"\"\"\n",
    "    \n",
    "    tail_co_LJ = 0\n",
    "    \n",
    "    coeff = 0\n",
    "    \n",
    "    r3 = math.pow(1/cutoff,3)\n",
    "    r9 = math.pow(r3,3)\n",
    "    \n",
    "    coeff = 8 * math.pi * (num_atoms ** 2)/(3 * (box_length ** 3))\n",
    "\n",
    "    tail_co_LJ = coeff * (r9/3 - r3)\n",
    "    \n",
    "    return tail_co_LJ"
   ]
  },
  {
   "cell_type": "code",
   "execution_count": null,
   "metadata": {},
   "outputs": [],
   "source": [
    "def calculate_total_energy(coordinates, cutoff=3, box_length=None):\n",
    "    \"\"\"\n",
    "    Calculate the total Lennard Jones energy of a system of particles.\n",
    "    \n",
    "    Parameters\n",
    "    ----------\n",
    "    coordinates : list\n",
    "        Nested list containing particle coordinates.\n",
    "        \n",
    "    cutoff : float\n",
    "        A criteria distance for intermolecular interaction truncation\n",
    "    \n",
    "    box_length : float, optional\n",
    "        The box length. This function assumes box is a cube.\n",
    "        \n",
    "    Returns\n",
    "    -------\n",
    "    total_energy : float\n",
    "        The total pairwise Lennard Jones energy of the system of particles.\n",
    "    \"\"\"\n",
    "    \n",
    "    total_energy = 0\n",
    "    \n",
    "    num_atoms = len(coordinates)\n",
    "    \n",
    "    for i in range(num_atoms):\n",
    "        for j in range(i+1,num_atoms):\n",
    "            \n",
    "            # print(F'Comparing atom number {i} with atom number {j}')\n",
    "            \n",
    "            dist_ij = calculate_distance(coordinates[i], coordinates[j], box_length)\n",
    "            \n",
    "            if dist_ij < cutoff:\n",
    "                interaction_energy = calculate_LJ(dist_ij)\n",
    "                total_energy += interaction_energy\n",
    "            \n",
    "    return total_energy"
   ]
  },
  {
   "cell_type": "code",
   "execution_count": null,
   "metadata": {},
   "outputs": [],
   "source": [
    "def read_xyz(filepath):\n",
    "    \"\"\"\n",
    "    Reads coordinates from an xyz file.\n",
    "    \n",
    "    Parameters\n",
    "    ----------\n",
    "    filepath : str\n",
    "       The path to the xyz file to be processed.\n",
    "       \n",
    "    Returns\n",
    "    -------\n",
    "    atomic_coordinates : list\n",
    "        A two dimensional list containing atomic coordinates\n",
    "    \"\"\"\n",
    "    \n",
    "    with open(filepath) as f:\n",
    "        box_length = float(f.readline().split()[0])\n",
    "        num_atoms = float(f.readline())\n",
    "        coordinates = f.readlines()\n",
    "    \n",
    "    atomic_coordinates = []\n",
    "    \n",
    "    for atom in coordinates:\n",
    "        split_atoms = atom.split()\n",
    "        \n",
    "        float_coords = []\n",
    "        \n",
    "        # We split this way to get rid of the atom label.\n",
    "        for coord in split_atoms[1:]:\n",
    "            float_coords.append(float(coord))\n",
    "            \n",
    "        atomic_coordinates.append(float_coords)\n",
    "    \n",
    "    return atomic_coordinates, box_length"
   ]
  },
  {
   "cell_type": "code",
   "execution_count": null,
   "metadata": {},
   "outputs": [],
   "source": [
    "fig = plt.figure()\n",
    "ax = fig.add_subplot(111)\n",
    "fig.show()\n",
    "plt.ylim(-1.1,0.1)\n",
    "for i in range(1, 51):\n",
    "    r = i * 0.1\n",
    "    calculate_LJ(r)"
   ]
  },
  {
   "cell_type": "markdown",
   "metadata": {},
   "source": [
    "From this graph, it is obvious that when $r^*_{ij}$ > 3, the pairwise energy is almost 0 and the energy curve reaches a plateau. The general set of cutoff distance at 3$\\sigma$ is reasonable."
   ]
  },
  {
   "cell_type": "code",
   "execution_count": null,
   "metadata": {},
   "outputs": [],
   "source": [
    "assert calculate_LJ(1) == 0\n",
    "assert calculate_LJ(math.pow(2,(1/6))) == -1"
   ]
  },
  {
   "cell_type": "code",
   "execution_count": null,
   "metadata": {},
   "outputs": [],
   "source": [
    "file_path = os.path.join('lj_sample_configurations','lj_sample_config_periodic1.txt')\n",
    "coordinates, box_length = read_xyz(file_path)\n",
    "calculate_total_energy(coordinates)"
   ]
  },
  {
   "cell_type": "code",
   "execution_count": null,
   "metadata": {},
   "outputs": [],
   "source": [
    "calculate_total_energy(coordinates,box_length=10)"
   ]
  },
  {
   "cell_type": "code",
   "execution_count": null,
   "metadata": {},
   "outputs": [],
   "source": [
    "assert abs(calculate_total_energy(coordinates,3, box_length=10) - (-4351.5)) < 0.1"
   ]
  },
  {
   "cell_type": "markdown",
   "metadata": {},
   "source": [
    "## Flow of calculation\n",
    "\n",
    "1. Generate an initial system state 'm'.\n",
    "1. Choose an atom with uniform probability from state 'm'.\n",
    "1. Propose a new state 'n' by translating the particle with a uniform random displacement in each direction.\n",
    "1. Calculate the energy change for the particle.\n",
    "1. Accept or reject the new state."
   ]
  },
  {
   "cell_type": "code",
   "execution_count": null,
   "metadata": {},
   "outputs": [],
   "source": [
    "def accept_or_reject(delta_e, beta):\n",
    "    \"\"\"\n",
    "    Accept or reject based on change in energy and temperature.\n",
    "    \n",
    "    Parameters\n",
    "    ----------\n",
    "    delta_e : float\n",
    "       The change of the system's energy.\n",
    "       \n",
    "    beta : float\n",
    "        1 over the temperature.\n",
    "       \n",
    "    Returns\n",
    "    -------\n",
    "    accept : bool\n",
    "        Accept the move or not.\n",
    "    \n",
    "    \"\"\"\n",
    "    if delta_e <= 0:\n",
    "        accept = True\n",
    "        \n",
    "    else:\n",
    "        rand_num = random.random()\n",
    "        p_acc = math.exp(-beta * delta_e)\n",
    "        \n",
    "        if rand_num < p_acc:\n",
    "            accept = True\n",
    "        else:\n",
    "            accept = False\n",
    "            \n",
    "    return accept\n",
    "        "
   ]
  },
  {
   "cell_type": "code",
   "execution_count": null,
   "metadata": {},
   "outputs": [],
   "source": [
    "delta_energy = -1\n",
    "beta = 1\n",
    "assert accept_or_reject(delta_energy,beta) is True"
   ]
  },
  {
   "cell_type": "code",
   "execution_count": null,
   "metadata": {},
   "outputs": [],
   "source": [
    "delta_energy = 0\n",
    "beta = 1\n",
    "assert accept_or_reject(delta_energy,beta) is True"
   ]
  },
  {
   "cell_type": "code",
   "execution_count": null,
   "metadata": {},
   "outputs": [],
   "source": [
    "import random\n",
    "\n",
    "random.seed(0)\n",
    "random.random()"
   ]
  },
  {
   "cell_type": "code",
   "execution_count": null,
   "metadata": {},
   "outputs": [],
   "source": [
    "delta_energy = 1\n",
    "beta = 1\n",
    "p_acc = math.exp(-beta * delta_energy)\n",
    "print(p_acc)"
   ]
  },
  {
   "cell_type": "code",
   "execution_count": null,
   "metadata": {},
   "outputs": [],
   "source": [
    "random.seed(0)\n",
    "delta_energy = 1\n",
    "beta = 1\n",
    "assert accept_or_reject(delta_energy,beta) is False"
   ]
  },
  {
   "cell_type": "code",
   "execution_count": null,
   "metadata": {},
   "outputs": [],
   "source": [
    "random.seed(1)\n",
    "delta_energy = 1\n",
    "beta = 1\n",
    "assert accept_or_reject(delta_energy,beta) is True"
   ]
  },
  {
   "cell_type": "code",
   "execution_count": null,
   "metadata": {},
   "outputs": [],
   "source": [
    "# Unset random seed\n",
    "random.seed()"
   ]
  },
  {
   "cell_type": "code",
   "execution_count": null,
   "metadata": {},
   "outputs": [],
   "source": [
    "def calculate_pair_energy(coordinates, i_particle, box_length, cutoff):\n",
    "    \"\"\"\n",
    "    Calculate the interaction energy of the particles with its environment (all other particles in the system)\n",
    "    \n",
    "    Parameters\n",
    "    ----------\n",
    "    coordinates : list\n",
    "        The coordinates for all the particles within the system.\n",
    "        \n",
    "    i_particle : int\n",
    "        The particle index for which to calculate the energy.\n",
    "        \n",
    "    box_length : float\n",
    "        The length of the simulation box.\n",
    "        \n",
    "    cutoff : float\n",
    "        The simulation cutoff. Beyond this distance, interactions are not calculated.\n",
    "        \n",
    "    Returns\n",
    "    -------\n",
    "    e_total : float\n",
    "        The pairwise interaction energy with the i_th particle with all other particles in the system.\n",
    "        \n",
    "    \"\"\"\n",
    "    e_total = 0\n",
    "    \n",
    "    num_atoms = len(coordinates)\n",
    "    \n",
    "    for i in range(num_atoms):\n",
    "        \n",
    "        # only consider the interactions with particles that is not the i_particle\n",
    "        if i != i_particle:\n",
    "            \n",
    "            r_ij = calculate_distance(coordinates[i_particle], coordinates[i], box_length)\n",
    "            \n",
    "            if r_ij < cutoff:\n",
    "            \n",
    "                e_pair = calculate_LJ(r_ij)\n",
    "                e_total += e_pair\n",
    "    \n",
    "    return e_total"
   ]
  },
  {
   "cell_type": "code",
   "execution_count": null,
   "metadata": {},
   "outputs": [],
   "source": [
    "coordinates = [[0, 0, 0], [0, math.pow(2, 1/6), 0], [0, 2*math.pow(2, 1/6), 0]]\n",
    "\n",
    "assert calculate_pair_energy(coordinates, 1, 10, 3) == -2\n",
    "\n",
    "assert calculate_pair_energy(coordinates, 0, 10, 3) == calculate_pair_energy(coordinates, 2, 10, 3)"
   ]
  },
  {
   "cell_type": "markdown",
   "metadata": {},
   "source": [
    "# Monte Carlo Simulation loop"
   ]
  },
  {
   "cell_type": "code",
   "execution_count": null,
   "metadata": {},
   "outputs": [],
   "source": [
    "import os\n",
    "import random\n",
    "\n",
    "# Set simulation parameters\n",
    "reduced_temperature = 0.9\n",
    "num_steps = 500\n",
    "max_displacement = 0.1\n",
    "cutoff = 3\n",
    "\n",
    "# Reporting information\n",
    "freq = 100\n",
    "steps = []\n",
    "energies = []\n",
    "\n",
    "# Calculate quantities\n",
    "beta = 1 / reduced_temperature\n",
    "\n",
    "# Read initial coordinates\n",
    "file_path = os.path.join('lj_sample_configurations','lj_sample_config_periodic1.txt')\n",
    "coordinates, box_length = read_xyz(file_path)\n",
    "num_particles = len(coordinates)\n",
    "\n",
    "# Calculate based on the inputs\n",
    "total_energy = calculate_total_energy(coordinates, cutoff, box_length)\n",
    "total_energy += calculate_tail_correction(cutoff, box_length, num_particles)\n",
    "\n",
    "for step in range(num_steps):\n",
    "    \n",
    "    # 1. Randomly pick one particle in the num_particles particles.\n",
    "    random_particle = random.randrange(0,num_particles)\n",
    "    \n",
    "    # 2. Calculate the interaction energy of the selected particles with the system and store this value.\n",
    "    current_energy = calculate_pair_energy(coordinates, random_particle, box_length, cutoff)\n",
    "    \n",
    "    # 3. Generate a random displacement in x, y, z directions with range (-max_displacement, max_displacement).\n",
    "    x_rand = random.uniform(-max_displacement, max_displacement)\n",
    "    y_rand = random.uniform(-max_displacement, max_displacement)\n",
    "    z_rand = random.uniform(-max_displacement, max_displacement)\n",
    "    \n",
    "    # 4. Modify the coordinate of the selected particle by generated displacement.\n",
    "    coordinates[random_particle][0] += x_rand\n",
    "    coordinates[random_particle][1] += y_rand\n",
    "    coordinates[random_particle][2] += z_rand\n",
    "    \n",
    "    # 5. Calculate the new interaction energy of the new particle and store this value.\n",
    "    proposed_energy = calculate_pair_energy(coordinates, random_particle, box_length, cutoff)\n",
    "    \n",
    "    # 6. Calculate energy change and decide if this move is accepted.\n",
    "    delta_energy = proposed_energy - current_energy\n",
    "    \n",
    "    accept = accept_or_reject(delta_energy, beta)\n",
    "    \n",
    "    # 7. If accepted, keep movement. Else, revert to the old position.\n",
    "    if accept == True:\n",
    "        total_energy += delta_energy\n",
    "    else:\n",
    "        # if rejected, roll back to the origin coordinates of the selected particle.\n",
    "        coordinates[random_particle][0] -= x_rand\n",
    "        coordinates[random_particle][1] -= y_rand\n",
    "        coordinates[random_particle][2] -= z_rand\n",
    "    \n",
    "    # 8. Print the energy and store the coordinates at certain intervals.\n",
    "    if step % freq == 0:\n",
    "        print(step, total_energy/num_particles)\n",
    "        steps.append(step)\n",
    "        energies.append(total_energy/num_particles)"
   ]
  },
  {
   "cell_type": "code",
   "execution_count": null,
   "metadata": {},
   "outputs": [],
   "source": [
    "import matplotlib.pyplot as plt\n",
    "\n",
    "%matplotlib notebook\n",
    "\n",
    "fig = plt.figure()\n",
    "ax = fig.add_subplot(111)\n",
    "ax.plot(steps, energies)"
   ]
  },
  {
   "cell_type": "markdown",
   "metadata": {},
   "source": [
    "## Generate initial configuration randomly"
   ]
  },
  {
   "cell_type": "code",
   "execution_count": null,
   "metadata": {},
   "outputs": [],
   "source": [
    "import random\n",
    "\n",
    "def initial_config(box_volume, num_particles):\n",
    "    \n",
    "    # Assume that the simulation box is a cubic box and calculate the box_length\n",
    "    box_length = box_volume ** (1/3)\n",
    "    \n",
    "    # Create a new empty list to store the generated coordinates.\n",
    "    coordinates = []\n",
    "    \n",
    "    # Generate num_particles of coordinates\n",
    "    for i in range(num_particles):\n",
    "        \n",
    "        x_rand = random.uniform(0, box_length)\n",
    "        y_rand = random.uniform(0, box_length)\n",
    "        z_rand = random.uniform(0, box_length) \n",
    "        \n",
    "        coordinate = [x_rand, y_rand, z_rand]\n",
    "        \n",
    "        coordinates.append(coordinate)\n",
    "    \n",
    "    return box_length, coordinates\n",
    "    \n",
    "    "
   ]
  },
  {
   "cell_type": "code",
   "execution_count": null,
   "metadata": {},
   "outputs": [],
   "source": [
    "# sanity check for def initial_config\n",
    "\n",
    "box_vol = 1000\n",
    "num_atoms = 5\n",
    "\n",
    "box_length, coordiantes = initial_config(box_vol, num_atoms)\n",
    "\n",
    "print(box_length)\n",
    "print('\\n')\n",
    "print(coordiantes)"
   ]
  }
 ],
 "metadata": {
  "kernelspec": {
   "display_name": "Python 3",
   "language": "python",
   "name": "python3"
  },
  "language_info": {
   "codemirror_mode": {
    "name": "ipython",
    "version": 3
   },
   "file_extension": ".py",
   "mimetype": "text/x-python",
   "name": "python",
   "nbconvert_exporter": "python",
   "pygments_lexer": "ipython3",
   "version": "3.7.7"
  }
 },
 "nbformat": 4,
 "nbformat_minor": 4
}
