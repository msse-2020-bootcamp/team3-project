{
 "cells": [
  {
   "cell_type": "code",
   "execution_count": 1,
   "metadata": {},
   "outputs": [],
   "source": [
    "import os\n",
    "import mcsim.monte_carlo"
   ]
  },
  {
   "cell_type": "code",
   "execution_count": 2,
   "metadata": {},
   "outputs": [
    {
     "name": "stdout",
     "output_type": "stream",
     "text": [
      "Help on function read_xyz in module mcsim.monte_carlo:\n",
      "\n",
      "read_xyz(filepath)\n",
      "    Reads coordinates from an xyz file.\n",
      "    \n",
      "    Parameters\n",
      "    ----------\n",
      "    filepath : str\n",
      "       The path to the xyz file to be processed.\n",
      "       \n",
      "    Returns\n",
      "    -------\n",
      "    atomic_coordinates : list\n",
      "        A two dimensional list containing atomic coordinates\n",
      "\n"
     ]
    }
   ],
   "source": [
    "help(mcsim.monte_carlo.read_xyz)"
   ]
  },
  {
   "cell_type": "code",
   "execution_count": 3,
   "metadata": {},
   "outputs": [],
   "source": [
    "# Set simulation parameters\n",
    "reduced_temperature = 1.5\n",
    "num_steps = 50000\n",
    "max_displacement = 0.1 \n",
    "cutoff = 3\n",
    "freq = 1000\n",
    "\n",
    "# Read initial coordinates\n",
    "file_path = os.path.join('lj_sample_configurations', 'lj_sample_config_periodic1.txt')\n",
    "coordinates, box_length = mcsim.monte_carlo.read_xyz(file_path)"
   ]
  },
  {
   "cell_type": "code",
   "execution_count": 4,
   "metadata": {},
   "outputs": [
    {
     "name": "stdout",
     "output_type": "stream",
     "text": [
      "0 -5.888567223623983\n",
      "1000 -5.531811258708984\n",
      "2000 -5.288989006277701\n",
      "3000 -5.185086096798436\n",
      "4000 -5.136353601487025\n",
      "5000 -5.042550402911008\n",
      "6000 -5.007295291313488\n",
      "7000 -4.918782967057651\n",
      "8000 -4.887858080695137\n",
      "9000 -4.840878824840365\n",
      "10000 -4.826612035993879\n",
      "11000 -4.755988560965459\n",
      "12000 -4.682477500336609\n",
      "13000 -4.688175828847141\n",
      "14000 -4.61292906725116\n",
      "15000 -4.56274933834588\n",
      "16000 -4.612142998645474\n",
      "17000 -4.5866195809655865\n",
      "18000 -4.622864639791094\n",
      "19000 -4.607984020971481\n",
      "20000 -4.637913913038906\n",
      "21000 -4.5233583019034045\n",
      "22000 -4.497510557373893\n",
      "23000 -4.549630773256203\n",
      "24000 -4.474907097374257\n",
      "25000 -4.447239840712237\n",
      "26000 -4.498292235418635\n",
      "27000 -4.525336791353636\n",
      "28000 -4.488510569895121\n",
      "29000 -4.427341256934744\n",
      "30000 -4.353542817606486\n",
      "31000 -4.311065692588201\n",
      "32000 -4.361057675898822\n",
      "33000 -4.436888036249274\n",
      "34000 -4.4164010326706045\n",
      "35000 -4.391361756984717\n",
      "36000 -4.289903154242208\n",
      "37000 -4.348079420823669\n",
      "38000 -4.324659455874657\n",
      "39000 -4.303327707415445\n",
      "40000 -4.3446218130215435\n",
      "41000 -4.367004468214975\n",
      "42000 -4.351778956617751\n",
      "43000 -4.329862312460339\n",
      "44000 -4.333448198364902\n",
      "45000 -4.304533511850781\n",
      "46000 -4.234751231750207\n",
      "47000 -4.268580659416639\n",
      "48000 -4.2658177503441905\n",
      "49000 -4.26744175417959\n"
     ]
    }
   ],
   "source": [
    "mcsim.monte_carlo.run_simulation(coordinates, box_length, reduced_temperature, cutoff, num_steps, max_displacement)"
   ]
  },
  {
   "cell_type": "code",
   "execution_count": null,
   "metadata": {},
   "outputs": [],
   "source": []
  }
 ],
 "metadata": {
  "kernelspec": {
   "display_name": "Python 3",
   "language": "python",
   "name": "python3"
  },
  "language_info": {
   "codemirror_mode": {
    "name": "ipython",
    "version": 3
   },
   "file_extension": ".py",
   "mimetype": "text/x-python",
   "name": "python",
   "nbconvert_exporter": "python",
   "pygments_lexer": "ipython3",
   "version": "3.7.7"
  }
 },
 "nbformat": 4,
 "nbformat_minor": 4
}
