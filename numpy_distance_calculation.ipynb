{
 "cells": [
  {
   "cell_type": "markdown",
   "metadata": {},
   "source": [
    "# Rewrite calculate distance function using NumPy"
   ]
  },
  {
   "cell_type": "code",
   "execution_count": null,
   "metadata": {},
   "outputs": [],
   "source": [
    "import math\n",
    "\n",
    "import numpy as np"
   ]
  },
  {
   "cell_type": "markdown",
   "metadata": {},
   "source": [
    "## standard library version"
   ]
  },
  {
   "cell_type": "code",
   "execution_count": null,
   "metadata": {},
   "outputs": [],
   "source": [
    "def calculate_distance(coord1, coord2, box_length = None):\n",
    "    \"\"\"\n",
    "    Calculate the distance between two 3D coordinates.\n",
    "    \n",
    "    Parameters\n",
    "    ----------\n",
    "    coord1, coord2 : list\n",
    "        The atomic coordinates [x, y, z]\n",
    "        \n",
    "    Returns\n",
    "    -------\n",
    "    distance : float\n",
    "        The distance between the two atoms.\n",
    "    \"\"\"\n",
    "    distance = 0\n",
    "    \n",
    "    for i in range(3):\n",
    "        dim_dist = (coord1[i] - coord2[i])\n",
    "        \n",
    "        if box_length:\n",
    "            dim_dist = dim_dist - box_length * round(dim_dist / box_length)\n",
    "            \n",
    "        dim_dist = dim_dist ** 2\n",
    "        distance += dim_dist\n",
    "        \n",
    "    distance = math.sqrt(distance)\n",
    "    \n",
    "    return distance"
   ]
  },
  {
   "cell_type": "markdown",
   "metadata": {},
   "source": [
    "## numpy version"
   ]
  },
  {
   "cell_type": "code",
   "execution_count": null,
   "metadata": {},
   "outputs": [],
   "source": [
    "def calculate_distance_np(coord1, coord2, box_length = None):\n",
    "    \"\"\"\n",
    "    Calculate the distance between two 3D coordinates.\n",
    "    \n",
    "    Parameters\n",
    "    ----------\n",
    "    coord1, coord2 : np.array\n",
    "        The atomic coordinates [x, y, z]\n",
    "        \n",
    "    Returns\n",
    "    -------\n",
    "    distance : float\n",
    "        The distance between the two atoms.\n",
    "    \"\"\"\n",
    "    coord_dist = coord1 - coord2\n",
    "    \n",
    "    if box_length:\n",
    "            coord_dist = coord_dist - box_length * np.round(coord_dist / box_length)\n",
    "            \n",
    "    coord_dist = coord_dist ** 2\n",
    "    \n",
    "    if coord_dist.ndim < 2:\n",
    "        coord_dist = coord_dist.reshape(1, -1)\n",
    "        \n",
    "    coord_dist_sum = coord_dist.sum(axis = 1)\n",
    "    distance = np.sqrt(coord_dist_sum)\n",
    "    \n",
    "    return distance"
   ]
  },
  {
   "cell_type": "code",
   "execution_count": null,
   "metadata": {},
   "outputs": [],
   "source": [
    "point1 = np.array([0, 0, 0])\n",
    "point2 = np.array([0, 0, 8])\n",
    "\n",
    "print(calculate_distance(point1, point2))\n",
    "print(calculate_distance(point1, point2, 10))\n",
    "print(calculate_distance_np(point1, point2, 10))"
   ]
  },
  {
   "cell_type": "code",
   "execution_count": null,
   "metadata": {},
   "outputs": [],
   "source": [
    "coord_set1 = np.array([[0, 0, 0], [0, 1, 0]])\n",
    "coord_set2 = np.array([[0, 8, 0], [1.5, 1, 0]])\n",
    "\n",
    "calculate_distance_np(coord_set1, coord_set2, 10)"
   ]
  }
 ],
 "metadata": {
  "kernelspec": {
   "display_name": "Python 3",
   "language": "python",
   "name": "python3"
  },
  "language_info": {
   "codemirror_mode": {
    "name": "ipython",
    "version": 3
   },
   "file_extension": ".py",
   "mimetype": "text/x-python",
   "name": "python",
   "nbconvert_exporter": "python",
   "pygments_lexer": "ipython3",
   "version": "3.7.7"
  }
 },
 "nbformat": 4,
 "nbformat_minor": 4
}
