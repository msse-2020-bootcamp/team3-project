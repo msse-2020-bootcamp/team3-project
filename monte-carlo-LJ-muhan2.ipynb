{
 "cells": [
  {
   "cell_type": "markdown",
   "metadata": {},
   "source": [
    "# Monte Carlo Simulation\n",
    "\n",
    "Today, we will work with the Lennard Jones equation.\n",
    "\n",
    "$$ U(r) = 4 \\epsilon \\left[\\left(\\frac{\\sigma}{r}\\right)^{12} -\\left(\\frac{\\sigma}{r}\\right)^{6} \\right] $$ \n",
    "Reduced units:\n",
    "$$ U^*\\left(r^*_{ij} \\right) = 4 \\left[\\left(\\frac{1}{r^*_{ij}}\\right)^{12} -\\left(\\frac{1}{r^*_{ij}}\\right)^{6} \\right] $$ "
   ]
  },
  {
   "cell_type": "code",
   "execution_count": 1,
   "metadata": {},
   "outputs": [],
   "source": [
    "import math, os\n",
    "import matplotlib.pyplot as plt\n",
    "\n",
    "%matplotlib notebook\n",
    "\n",
    "def calculate_LJ(r_ij):\n",
    "    \"\"\"\n",
    "    The LJ interaction energy between two particles.\n",
    "    \n",
    "    Computes the pairwise Lennard Jones interaction energy based on the separation distance in reduced unites.\n",
    "    \n",
    "    Parameters\n",
    "    ----------\n",
    "    r_ij : float\n",
    "        The distance between the particles in reduced units.\n",
    "        \n",
    "    Returns\n",
    "    -------\n",
    "    pairwise_energy : float\n",
    "        The pairwise Lennard Jones interaction energy in reduced units.\n",
    "    \n",
    "    \"\"\"\n",
    "    \n",
    "    r6_term = math.pow(1/r_ij,6)\n",
    "    r12_term = math.pow(r6_term,2)\n",
    "    \n",
    "    pairwise_energy = 4 * (r12_term - r6_term)\n",
    "    \n",
    "    return pairwise_energy"
   ]
  },
  {
   "cell_type": "code",
   "execution_count": 2,
   "metadata": {},
   "outputs": [
    {
     "data": {
      "text/plain": [
       "0.0"
      ]
     },
     "execution_count": 2,
     "metadata": {},
     "output_type": "execute_result"
    }
   ],
   "source": [
    "# Make tests for the function - ESSENTIAL\n",
    "calculate_LJ(1)"
   ]
  },
  {
   "cell_type": "code",
   "execution_count": 3,
   "metadata": {},
   "outputs": [
    {
     "data": {
      "text/plain": [
       "-1.0"
      ]
     },
     "execution_count": 3,
     "metadata": {},
     "output_type": "execute_result"
    }
   ],
   "source": [
    "calculate_LJ(math.pow(2,(1/6)))"
   ]
  },
  {
   "cell_type": "code",
   "execution_count": 4,
   "metadata": {},
   "outputs": [],
   "source": [
    "assert 1 == 1"
   ]
  },
  {
   "cell_type": "code",
   "execution_count": 5,
   "metadata": {},
   "outputs": [
    {
     "ename": "AssertionError",
     "evalue": "",
     "output_type": "error",
     "traceback": [
      "\u001b[0;31m---------------------------------------------------------------------------\u001b[0m",
      "\u001b[0;31mAssertionError\u001b[0m                            Traceback (most recent call last)",
      "\u001b[0;32m<ipython-input-5-851ccd1ebd39>\u001b[0m in \u001b[0;36m<module>\u001b[0;34m\u001b[0m\n\u001b[1;32m      1\u001b[0m \u001b[0;31m# If we assert something that is not True (otherwise known as False), we will get an assert error\u001b[0m\u001b[0;34m\u001b[0m\u001b[0;34m\u001b[0m\u001b[0;34m\u001b[0m\u001b[0m\n\u001b[0;32m----> 2\u001b[0;31m \u001b[0;32massert\u001b[0m \u001b[0;36m1\u001b[0m \u001b[0;34m==\u001b[0m \u001b[0;36m0\u001b[0m\u001b[0;34m\u001b[0m\u001b[0;34m\u001b[0m\u001b[0m\n\u001b[0m",
      "\u001b[0;31mAssertionError\u001b[0m: "
     ]
    }
   ],
   "source": [
    "# If we assert something that is not True (otherwise known as False), we will get an assert error\n",
    "assert 1 == 0"
   ]
  },
  {
   "cell_type": "code",
   "execution_count": 6,
   "metadata": {},
   "outputs": [],
   "source": [
    "assert calculate_LJ(1) == 0\n",
    "assert calculate_LJ(math.pow(2,(1/6))) == -1"
   ]
  },
  {
   "cell_type": "code",
   "execution_count": 7,
   "metadata": {},
   "outputs": [],
   "source": [
    "# docstring - documentation string\n",
    "def calculate_distance(coord1,coord2,box_length=None):\n",
    "    \"\"\"\n",
    "    Calculate the distance between two 3D coordinates.\n",
    "    \n",
    "    Parameters\n",
    "    ----------\n",
    "    coord1, coord2 : list\n",
    "        The atomic coordinates [x, y, z]\n",
    "    \n",
    "    box_length : float, optional\n",
    "        The box length. This function assumes box is a cube.\n",
    "    \n",
    "    Returns\n",
    "    -------\n",
    "    distance : float\n",
    "        The distance between the two atoms.\n",
    "    \"\"\"\n",
    "    distance = 0\n",
    "    vector = [0,0,0]\n",
    "    for i in range(3):\n",
    "        vector[i] = coord1[i] -coord2[i]\n",
    "        if box_length is None:\n",
    "            pass\n",
    "        else:\n",
    "            if vector[i] > box_length/2:\n",
    "                vector[i] -= box_length\n",
    "            elif vector[i] < -box_length/2:\n",
    "                vector[i] += box_length\n",
    "        dim_dist = vector[i] ** 2\n",
    "        \n",
    "        # if box_length:\n",
    "        #     \n",
    "        distance += dim_dist\n",
    "    distance = math.sqrt(distance)\n",
    "    return distance"
   ]
  },
  {
   "cell_type": "code",
   "execution_count": 8,
   "metadata": {},
   "outputs": [],
   "source": [
    "point_1 = [0,0,0]\n",
    "point_2 = [1,0,0]\n",
    "dist1 = calculate_distance(point_1,point_2)\n",
    "assert dist1 == 1\n",
    "\n",
    "point_3 = [0,0,0]\n",
    "point_4 = [0,1,1]\n",
    "\n",
    "dist2 = calculate_distance(point_3,point_4)\n",
    "assert dist2 == math.sqrt(2)"
   ]
  },
  {
   "cell_type": "code",
   "execution_count": 9,
   "metadata": {},
   "outputs": [],
   "source": [
    "atomic_coordinates = [[0, 0, 0], [0, math.pow(2, 1/6), 0], [0, 2*math.pow(2, 1/6), 0]]"
   ]
  },
  {
   "cell_type": "code",
   "execution_count": 10,
   "metadata": {},
   "outputs": [],
   "source": [
    "def calculate_total_energy(coordinates, cutoff=3, box_length=None):\n",
    "    \"\"\"\n",
    "    Calculate the total Lennard Jones energy of a system of particles.\n",
    "    \n",
    "    Parameters\n",
    "    ----------\n",
    "    coordinates : list\n",
    "        Nested list containing particle coordinates.\n",
    "        \n",
    "    cutoff : float\n",
    "        A criteria distance for intermolecular interaction truncation\n",
    "    \n",
    "    box_length : float, optional\n",
    "        The box length. This function assumes box is a cube.\n",
    "        \n",
    "    Returns\n",
    "    -------\n",
    "    total_energy : float\n",
    "        The total pairwise Lennard Jones energy of the system of particles.\n",
    "    \"\"\"\n",
    "    \n",
    "    total_energy = 0\n",
    "    \n",
    "    num_atoms = len(coordinates)\n",
    "    \n",
    "    for i in range(num_atoms):\n",
    "        for j in range(i+1,num_atoms):\n",
    "            \n",
    "            # print(F'Comparing atom number {i} with atom number {j}')\n",
    "            \n",
    "            dist_ij = calculate_distance(coordinates[i], coordinates[j], box_length)\n",
    "            \n",
    "            if dist_ij < cutoff:\n",
    "                interaction_energy = calculate_LJ(dist_ij)\n",
    "                total_energy += interaction_energy\n",
    "            \n",
    "    return total_energy"
   ]
  },
  {
   "cell_type": "code",
   "execution_count": 11,
   "metadata": {},
   "outputs": [
    {
     "data": {
      "text/plain": [
       "-2.031005859375"
      ]
     },
     "execution_count": 11,
     "metadata": {},
     "output_type": "execute_result"
    }
   ],
   "source": [
    "calculate_total_energy(atomic_coordinates, box_length=10)"
   ]
  },
  {
   "cell_type": "code",
   "execution_count": 12,
   "metadata": {},
   "outputs": [],
   "source": [
    "def read_xyz(filepath):\n",
    "    \"\"\"\n",
    "    Reads coordinates from an xyz file.\n",
    "    \n",
    "    Parameters\n",
    "    ----------\n",
    "    filepath : str\n",
    "       The path to the xyz file to be processed.\n",
    "       \n",
    "    Returns\n",
    "    -------\n",
    "    atomic_coordinates : list\n",
    "        A two dimensional list containing atomic coordinates\n",
    "    \"\"\"\n",
    "    \n",
    "    with open(filepath) as f:\n",
    "        box_length = float(f.readline().split()[0])\n",
    "        num_atoms = float(f.readline())\n",
    "        coordinates = f.readlines()\n",
    "    \n",
    "    atomic_coordinates = []\n",
    "    \n",
    "    for atom in coordinates:\n",
    "        split_atoms = atom.split()\n",
    "        \n",
    "        float_coords = []\n",
    "        \n",
    "        # We split this way to get rid of the atom label.\n",
    "        for coord in split_atoms[1:]:\n",
    "            float_coords.append(float(coord))\n",
    "            \n",
    "        atomic_coordinates.append(float_coords)\n",
    "        \n",
    "    \n",
    "    return atomic_coordinates, box_length"
   ]
  },
  {
   "cell_type": "code",
   "execution_count": 13,
   "metadata": {},
   "outputs": [],
   "source": [
    "file_path = os.path.join('lj_sample_configurations','lj_sample_config_periodic1.txt')\n",
    "\n",
    "coordinates, box_length = read_xyz(file_path)"
   ]
  },
  {
   "cell_type": "code",
   "execution_count": 14,
   "metadata": {},
   "outputs": [
    {
     "data": {
      "text/plain": [
       "10.0"
      ]
     },
     "execution_count": 14,
     "metadata": {},
     "output_type": "execute_result"
    }
   ],
   "source": [
    "box_length"
   ]
  },
  {
   "cell_type": "code",
   "execution_count": 15,
   "metadata": {},
   "outputs": [
    {
     "data": {
      "text/plain": [
       "800"
      ]
     },
     "execution_count": 15,
     "metadata": {},
     "output_type": "execute_result"
    }
   ],
   "source": [
    "len(coordinates)"
   ]
  },
  {
   "cell_type": "code",
   "execution_count": 17,
   "metadata": {},
   "outputs": [
    {
     "data": {
      "text/plain": [
       "-4351.540194543858"
      ]
     },
     "execution_count": 17,
     "metadata": {},
     "output_type": "execute_result"
    }
   ],
   "source": [
    "calculate_total_energy(coordinates, box_length=10)"
   ]
  },
  {
   "cell_type": "markdown",
   "metadata": {},
   "source": [
    "# Tail Correction\n",
    "\n",
    "Truncating interactions using a cutoff removes contribution to the potential energy that might be non-negligible. The tail correction for our system makes a correction for use of the cutoff. We only have to calculate this once at the start of our simulation. The formula is:\n",
    "\n",
    "$$U_{tail} = \\frac{8\\pi N^2}{3V} \\epsilon \\sigma ^3 \\left[\\frac{1}{3}\\left(\\frac{\\sigma}{r_c}\\right)^9 - \\left(\\frac{\\sigma}{r_c}\\right)^3\\right]$$\n",
    "\n",
    "In reduced units:\n",
    "\n",
    "$$U_{tail} = \\frac{8\\pi N^2}{3V} \\left[\\frac{1}{3}\\left(\\frac{1}{r_c}\\right)^9 - \\left(\\frac{1}{r_c}\\right)^3\\right]$$"
   ]
  },
  {
   "cell_type": "code",
   "execution_count": 18,
   "metadata": {},
   "outputs": [],
   "source": [
    "def calculate_tail_correction(cutoff, box_length, num_atoms):\n",
    "    \"\"\"\n",
    "    Calculate the tail correction.\n",
    "    \n",
    "    Parameters\n",
    "    ----------\n",
    "    cutoff : float\n",
    "        The curoff distance.\n",
    "        \n",
    "    box_length : float\n",
    "        The length of the cell.\n",
    "       \n",
    "    num_atoms : int\n",
    "        Number of atoms in a given system.\n",
    "       \n",
    "    Returns\n",
    "    -------\n",
    "    tail_co_LJ : float\n",
    "        A float number that shows the value of tail correction energy for the given system.\n",
    "    \"\"\"\n",
    "    \n",
    "    tail_co_LJ = 0\n",
    "    \n",
    "    coeff = 0\n",
    "    \n",
    "    r3 = math.pow(1/cutoff,3)\n",
    "    r9 = math.pow(r3,3)\n",
    "    \n",
    "    coeff = 8 * math.pi * (num_atoms ** 2)/(3 * (box_length ** 3))\n",
    "\n",
    "    tail_co_LJ = coeff * (r9/3 - r3)\n",
    "    \n",
    "    return tail_co_LJ"
   ]
  },
  {
   "cell_type": "code",
   "execution_count": null,
   "metadata": {},
   "outputs": [],
   "source": []
  }
 ],
 "metadata": {
  "kernelspec": {
   "display_name": "Python 3",
   "language": "python",
   "name": "python3"
  },
  "language_info": {
   "codemirror_mode": {
    "name": "ipython",
    "version": 3
   },
   "file_extension": ".py",
   "mimetype": "text/x-python",
   "name": "python",
   "nbconvert_exporter": "python",
   "pygments_lexer": "ipython3",
   "version": "3.7.7"
  }
 },
 "nbformat": 4,
 "nbformat_minor": 4
}
